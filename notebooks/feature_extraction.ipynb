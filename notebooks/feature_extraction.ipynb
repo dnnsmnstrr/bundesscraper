{
 "cells": [
  {
   "cell_type": "code",
   "execution_count": 5,
   "metadata": {
    "collapsed": true
   },
   "outputs": [],
   "source": [
    "from bs4 import BeautifulSoup\n",
    "import glob\n",
    "import re"
   ]
  },
  {
   "cell_type": "code",
   "execution_count": 6,
   "metadata": {
    "collapsed": true
   },
   "outputs": [],
   "source": [
    "extracts = glob.glob('./dumps/extracts/*')"
   ]
  },
  {
   "cell_type": "code",
   "execution_count": 7,
   "metadata": {
    "collapsed": true,
    "scrolled": false
   },
   "outputs": [],
   "source": [
    "def extract_text(html):\n",
    "    soup = BeautifulSoup(open(e), 'lxml')\n",
    "    closing_matcher = re.compile(r'\\(Schlu(ß|ss) der Sitzung: .*\\)')\n",
    "    opening = 2\n",
    "    closing = 2\n",
    "    text = soup.select('div[style]')\n",
    "    relevant_text = []\n",
    "    for piece in text[opening:]:\n",
    "        last_relevant = 0\n",
    "        paragraphs = piece.select('p')\n",
    "        for p in paragraphs:\n",
    "            last_relevant += 1\n",
    "            relevant_text.append(p)\n",
    "            if closing_matcher.findall(p.get_text()):\n",
    "                return '\\n'.join([p.get_text().replace('- ', '').replace('-\\n', '') for p in relevant_text])\n",
    "    return '\\n'.join([p.get_text().replace('- ', '') for p in relevant_text])"
   ]
  },
  {
   "cell_type": "code",
   "execution_count": 8,
   "metadata": {
    "scrolled": false
   },
   "outputs": [],
   "source": [
    "for e in extracts:\n",
    "    filename = e.split('/')[-1]\n",
    "    identifier = filename.split('.')[0]\n",
    "    text = extract_text(e)\n",
    "    if text:\n",
    "        with open('./dumps/texts/{}.txt'.format(identifier), 'w') as f:\n",
    "            f.write(text)"
   ]
  },
  {
   "cell_type": "code",
   "execution_count": 9,
   "metadata": {
    "collapsed": true
   },
   "outputs": [],
   "source": [
    "def extract_text_no_speakers(html):\n",
    "    soup = BeautifulSoup(open(e), 'lxml')\n",
    "    closing_matcher = re.compile(r'\\(Schlu(ß|ss) der Sitzung: .*\\)')\n",
    "    opening = 2\n",
    "    closing = 2\n",
    "    text = soup.select('div[style]')\n",
    "    relevant_text = []\n",
    "    for piece in text[opening:]:\n",
    "        last_relevant = 0\n",
    "        paragraphs = piece.select('p')\n",
    "        for p in paragraphs:\n",
    "            last_relevant += 1\n",
    "            text = p.get_text().replace(r'^.*:', '').replace('- ', '').replace('-\\n', '')\n",
    "            relevant_text.append(text)\n",
    "            if closing_matcher.findall(p.get_text()):\n",
    "                return '\\n'.join(relevant_text)\n",
    "    return '\\n'.join(relevant_text)"
   ]
  },
  {
   "cell_type": "code",
   "execution_count": 10,
   "metadata": {
    "collapsed": true
   },
   "outputs": [],
   "source": [
    "for e in extracts:\n",
    "    filename = e.split('/')[-1]\n",
    "    identifier = filename.split('.')[0]\n",
    "    text = extract_text_no_speakers(e)\n",
    "    if text:\n",
    "        with open('./dumps/without_speakers/{}.txt'.format(identifier), 'w') as f:\n",
    "            f.write(text)"
   ]
  },
  {
   "cell_type": "code",
   "execution_count": null,
   "metadata": {
    "collapsed": true
   },
   "outputs": [],
   "source": []
  }
 ],
 "metadata": {
  "kernelspec": {
   "display_name": "Python 3",
   "language": "python",
   "name": "python3"
  },
  "language_info": {
   "codemirror_mode": {
    "name": "ipython",
    "version": 3
   },
   "file_extension": ".py",
   "mimetype": "text/x-python",
   "name": "python",
   "nbconvert_exporter": "python",
   "pygments_lexer": "ipython3",
   "version": "3.6.1"
  }
 },
 "nbformat": 4,
 "nbformat_minor": 2
}
